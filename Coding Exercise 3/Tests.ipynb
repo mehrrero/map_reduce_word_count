{
 "cells": [
  {
   "cell_type": "code",
   "execution_count": 44,
   "id": "aa4696c9-46e6-429c-bde6-32feb23d7931",
   "metadata": {},
   "outputs": [],
   "source": [
    "# worker.py\n",
    "import http.client\n",
    "import json\n",
    "import os\n",
    "from http.server import BaseHTTPRequestHandler, HTTPServer"
   ]
  },
  {
   "cell_type": "markdown",
   "id": "d0cd6bdf-4c4e-49b7-915b-468a368098d4",
   "metadata": {},
   "source": [
    "# Driver"
   ]
  },
  {
   "cell_type": "code",
   "execution_count": 64,
   "id": "ee0e520c-c84f-4fb0-bb81-a3b7a62da2cb",
   "metadata": {},
   "outputs": [],
   "source": [
    "class Driver(BaseHTTPRequestHandler):\n",
    "    def do_GET(self):\n",
    "        \"\"\"\n",
    "        Returns a task type and task ID in JSON format to a request from the worker.\n",
    "        \"\"\"\n",
    "\n",
    "        task = None #We initialize the variable to None, which will handle finished tasks (see below)\n",
    "        \n",
    "        #The task is requested by a call of the form .request('GET', '/map'). Hence, by splitting and calling the last element, we get\n",
    "            #the kind of task requested.\n",
    "        type = self.path.split('/')[-1]\n",
    "\n",
    "        # We assign tasks by extracting the task ID from the dictionary and eliminating it from there, using pop\n",
    "        if type == 'map' and tasks['map']: # If there are no tasks of a type left, this returns False\n",
    "            task = tasks['map'].pop(0)  \n",
    "        elif task_type == 'reduce' and tasks['reduce']:\n",
    "            task = tasks['reduce'].pop(0)  \n",
    "        \n",
    "        # We send the response. \n",
    "        if task is not None:\n",
    "            reply = {'task_type': task_type, 'task_id': task}\n",
    "        else:\n",
    "            reply = {'task_type': 'no_tasks'} # If there are no tasks of a kind left, we return 'no_tasks'\n",
    "        \n",
    "        self.send_response(200) # We signal a succesful request\n",
    "        # We will send the reply using a JSON format\n",
    "        self.send_header('Content-type', 'application/json') \n",
    "        self.end_headers()\n",
    "        self.wfile.write(json.dumps(reply).encode('utf-8'))\n",
    "\n",
    "\n",
    "    #################################\n",
    "    def do_POST(self):\n",
    "        \"\"\"\n",
    "        Processes a notification of completed task from a worker.\n",
    "        \"\"\"\n",
    "        \n",
    "        # We read the JSON coming from the worker\n",
    "        size = int(self.headers['Content-Length'])\n",
    "        message = json.loads(self.rfile.read(size).decode('utf-8'))\n",
    "        \n",
    "        task = message['type']\n",
    "        id = message['id']\n",
    "        completed_tasks[task].append(id) # We add the completed task to the dictionary\n",
    "        \n",
    "        self.send_response(200)# We signal a succesful request\n",
    "        self.end_headers()\n",
    "\n",
    "    #################################"
   ]
  },
  {
   "cell_type": "markdown",
   "id": "7246beaa-adc0-44fd-917e-976885eeb05b",
   "metadata": {},
   "source": [
    "# Worker"
   ]
  },
  {
   "cell_type": "code",
   "execution_count": 59,
   "id": "8a2242ae-41a0-4ee6-a326-b5be5b015a97",
   "metadata": {},
   "outputs": [],
   "source": [
    "def _map(task_id, num_reduces):\n",
    "    \"\"\"\n",
    "    Performs the map task. Saves the intermediate file to disk with a filename mr-{task_id}-{bucket_id}.txt.\n",
    "\n",
    "    Parameters:\n",
    "        task_id (int): ID of the task to be performed.\n",
    "        num_reduces (int): Number of total reduce tasks.        \n",
    "    \"\"\"\n",
    "    input = f'temp/tasks/{task_id}.txt'\n",
    "    with open(input, 'r') as f:\n",
    "        text = f.read().split()\n",
    "    \n",
    "    # Bucket words by the first letter modulo M\n",
    "    for word in text:\n",
    "        \n",
    "        #We do not distinguish uppercas or lowercase\n",
    "        word = word.lower()\n",
    "        \n",
    "        # We set the buket ID using the unicode code for the first character. \n",
    "        bucket_id = ord(word[0].lower()) % num_reduces \n",
    "\n",
    "        # We append the words to the intermediate file \n",
    "        intermediate = f'temp/intermediate/mr-{task_id}-{bucket_id}.txt'\n",
    "        with open(intermediate, 'a') as bucket:\n",
    "            bucket.write(f\"{word}\\n\")"
   ]
  },
  {
   "cell_type": "code",
   "execution_count": 60,
   "id": "404a1b83-8809-4bde-81c7-340c5bdb29c3",
   "metadata": {},
   "outputs": [],
   "source": [
    "def _reduce(bucket_id, num_maps):\n",
    "\n",
    "    \"\"\"\n",
    "    Performs the reduce task for the given bucket_id and all the maps.\n",
    "\n",
    "    Parameters:\n",
    "        bucket_id (int): ID of the bucket on which the function performs the reduce task.\n",
    "        num_maps (int): Number of map tasks that have produced buckets.\n",
    "    \"\"\"\n",
    "\n",
    "    counts = {} # Empty dictionary to store the count\n",
    "\n",
    "    # We run over the map tasks to collect all bucket files\n",
    "    for map_id in range(num_maps): \n",
    "        intermediate = f'temp/intermediate/mr-{map_id}-{bucket_id}.txt'\n",
    "        if not os.path.exists(intermediate):\n",
    "            continue\n",
    "        with open(intermediate, 'r') as f:\n",
    "            for word in f:\n",
    "                word = word.strip() # We remove spaces in and after the word, just in case\n",
    "                counts[word] = counts.get(word, 0) + 1 # We add one to the word count in the dictionary\n",
    "    \n",
    "    # Write the output to a file\n",
    "    output = f'temp/output/out-{bucket_id}.txt'\n",
    "    with open(output, 'w') as f:\n",
    "        for word, count in counts.items():\n",
    "            f.write(f\"{word} {count}\\n\")"
   ]
  },
  {
   "cell_type": "code",
   "execution_count": 61,
   "id": "3d258052-3418-4018-b435-9ea380bcc5bd",
   "metadata": {},
   "outputs": [],
   "source": [
    "def _request(driver_IP):\n",
    "    \"\"\"\n",
    "    Requests a task to the driver.\n",
    "\n",
    "    Parameters:\n",
    "        driver_IP (string): IP address of the driver, eg. 'localhost:8000'.\n",
    "\n",
    "    Returns:\n",
    "        reply_json (JSON): File with JSON data of the task requested.\n",
    "    \"\"\"\n",
    "\n",
    "    driver = http.client.HTTPConnection(driver_IP) # We connect to the driver\n",
    "    \n",
    "    driver.request('GET', '/map')  # We first ask the driver for a map task\n",
    "    \n",
    "    # We obtain the reply from the driver and read it in JSON format \n",
    "    reply = driver.getresponse() \n",
    "    reply_json = json.loads(reply.read()) \n",
    "    \n",
    "    # Checks if the map tasks are done. If so, asks for a reduce task\n",
    "    if reply_json['task_type'] == 'done':\n",
    "        driver.request('GET', '/reduce')\n",
    "        reply = driver.getresponse()\n",
    "        reply_json = json.loads(driver.read())\n",
    "\n",
    "    connection.close()\n",
    "    return reply_json"
   ]
  },
  {
   "cell_type": "code",
   "execution_count": 62,
   "id": "19df2cfa-52e8-4c01-8647-7d080377b801",
   "metadata": {},
   "outputs": [],
   "source": [
    "def _done(driver_IP, task, id):\n",
    "\n",
    "    \"\"\"\n",
    "    Notifies the driver that the task is done.\n",
    "\n",
    "    Parameters:\n",
    "        driver_IP (string): IP address of the driver, eg. 'localhost:8000'.\n",
    "        task (string): Task that has been performed (map or reduce).\n",
    "        id: ID of the task done.\n",
    "        \n",
    "    \"\"\"\n",
    "    \n",
    "    connection = http.client.HTTPConnection(driver_IP) # We connect to the driver\n",
    "\n",
    "    #We save the output in a json file that will be sent to the server through the POST method\n",
    "    head = {'Content-type': 'application/json'}\n",
    "    info = json.dumps({'task': task, 'id': id})\n",
    "    connection.request('POST', '/', info, head)\n",
    "    connection.getresponse()\n",
    "    connection.close()"
   ]
  },
  {
   "cell_type": "code",
   "execution_count": 63,
   "id": "fa75010e-8a05-4043-bcd3-ca3c5b761c7e",
   "metadata": {},
   "outputs": [],
   "source": [
    "def Worker(driver_IP, num_maps, num_reduces):\n",
    "    \"\"\"\n",
    "    Function that runs the worker in a loop.\n",
    "\n",
    "    Parameters:\n",
    "        driver_IP (string): IP address of the driver, eg. 'localhost:8000'.\n",
    "         num_maps (int): Number of map tasks. \n",
    "         num_reduces (int): Number of reduce tasks.\n",
    "    \"\"\"\n",
    "    \n",
    "    while True: #We set an infinite loop so that the worker continuously request the driver for work to do.\n",
    "        \n",
    "        reply = _request(driver_IP) # We request a task. Depending on the type we do one of another thing.\n",
    "        task = reply['task']\n",
    "        \n",
    "        if task == 'no_tasks':\n",
    "            # If there are no tasks available, we turn off the worker by breaking the loop.\n",
    "            print(\"All tasks are done. Shutting down the worker.\")\n",
    "            break\n",
    "\n",
    "        # Otherwise we retrieve the id and tell the worker to perform the adequate task.\n",
    "        id = reply['id']\n",
    "        \n",
    "        if task == 'map':\n",
    "            print(f\"Map {task_id}\")\n",
    "            _map(id, num_reduces)\n",
    "        elif task_type == 'reduce':\n",
    "            print(f\"Reduce {task_id}\")\n",
    "            _reduce(id, num_maps)\n",
    "        \n",
    "        # We end up by letting the driver know that the job is finished.\n",
    "        _done(driver_host, task_type, task_id)\n"
   ]
  },
  {
   "cell_type": "markdown",
   "id": "b2a34500-a3d2-48ff-9962-c0578d68e05b",
   "metadata": {},
   "source": [
    "# Test"
   ]
  },
  {
   "cell_type": "code",
   "execution_count": 65,
   "id": "b49adb63-235b-4183-8ccf-7354493419ac",
   "metadata": {},
   "outputs": [],
   "source": [
    "N = 5  # Number of map tasks\n",
    "M = 3  # Number of reduce tasks\n",
    "\n",
    "tasks = {'map': list(range(N)), 'reduce': list(range(M))}  # Tasks available to assign\n",
    "completed_tasks = {'map': [], 'reduce': []}  # Tasks that have been completed"
   ]
  },
  {
   "cell_type": "code",
   "execution_count": 68,
   "id": "aa2298e7-dd99-4cab-81b5-185cdb786126",
   "metadata": {},
   "outputs": [],
   "source": [
    "def run_driver(port):\n",
    "    server_address = ('', port)\n",
    "    httpd = HTTPServer(server_address, Driver)\n",
    "    print(f\"Driver Server running on port {port}\")\n",
    "    httpd.serve_forever()"
   ]
  },
  {
   "cell_type": "code",
   "execution_count": 69,
   "id": "771d3ff8-66cd-425e-8207-f42eafdbd700",
   "metadata": {},
   "outputs": [
    {
     "name": "stdout",
     "output_type": "stream",
     "text": [
      "Driver Server running on port 8080\n"
     ]
    },
    {
     "ename": "KeyboardInterrupt",
     "evalue": "",
     "output_type": "error",
     "traceback": [
      "\u001b[0;31m---------------------------------------------------------------------------\u001b[0m",
      "\u001b[0;31mKeyboardInterrupt\u001b[0m                         Traceback (most recent call last)",
      "Cell \u001b[0;32mIn[69], line 1\u001b[0m\n\u001b[0;32m----> 1\u001b[0m run_driver(\u001b[38;5;241m8080\u001b[39m)\n",
      "Cell \u001b[0;32mIn[68], line 5\u001b[0m, in \u001b[0;36mrun_driver\u001b[0;34m(port)\u001b[0m\n\u001b[1;32m      3\u001b[0m httpd \u001b[38;5;241m=\u001b[39m HTTPServer(server_address, Driver)\n\u001b[1;32m      4\u001b[0m \u001b[38;5;28mprint\u001b[39m(\u001b[38;5;124mf\u001b[39m\u001b[38;5;124m\"\u001b[39m\u001b[38;5;124mDriver Server running on port \u001b[39m\u001b[38;5;132;01m{\u001b[39;00mport\u001b[38;5;132;01m}\u001b[39;00m\u001b[38;5;124m\"\u001b[39m)\n\u001b[0;32m----> 5\u001b[0m httpd\u001b[38;5;241m.\u001b[39mserve_forever()\n",
      "File \u001b[0;32m~/miniconda3/lib/python3.12/socketserver.py:235\u001b[0m, in \u001b[0;36mBaseServer.serve_forever\u001b[0;34m(self, poll_interval)\u001b[0m\n\u001b[1;32m    232\u001b[0m selector\u001b[38;5;241m.\u001b[39mregister(\u001b[38;5;28mself\u001b[39m, selectors\u001b[38;5;241m.\u001b[39mEVENT_READ)\n\u001b[1;32m    234\u001b[0m \u001b[38;5;28;01mwhile\u001b[39;00m \u001b[38;5;129;01mnot\u001b[39;00m \u001b[38;5;28mself\u001b[39m\u001b[38;5;241m.\u001b[39m__shutdown_request:\n\u001b[0;32m--> 235\u001b[0m     ready \u001b[38;5;241m=\u001b[39m selector\u001b[38;5;241m.\u001b[39mselect(poll_interval)\n\u001b[1;32m    236\u001b[0m     \u001b[38;5;66;03m# bpo-35017: shutdown() called during select(), exit immediately.\u001b[39;00m\n\u001b[1;32m    237\u001b[0m     \u001b[38;5;28;01mif\u001b[39;00m \u001b[38;5;28mself\u001b[39m\u001b[38;5;241m.\u001b[39m__shutdown_request:\n",
      "File \u001b[0;32m~/miniconda3/lib/python3.12/selectors.py:415\u001b[0m, in \u001b[0;36m_PollLikeSelector.select\u001b[0;34m(self, timeout)\u001b[0m\n\u001b[1;32m    413\u001b[0m ready \u001b[38;5;241m=\u001b[39m []\n\u001b[1;32m    414\u001b[0m \u001b[38;5;28;01mtry\u001b[39;00m:\n\u001b[0;32m--> 415\u001b[0m     fd_event_list \u001b[38;5;241m=\u001b[39m \u001b[38;5;28mself\u001b[39m\u001b[38;5;241m.\u001b[39m_selector\u001b[38;5;241m.\u001b[39mpoll(timeout)\n\u001b[1;32m    416\u001b[0m \u001b[38;5;28;01mexcept\u001b[39;00m \u001b[38;5;167;01mInterruptedError\u001b[39;00m:\n\u001b[1;32m    417\u001b[0m     \u001b[38;5;28;01mreturn\u001b[39;00m ready\n",
      "\u001b[0;31mKeyboardInterrupt\u001b[0m: "
     ]
    }
   ],
   "source": [
    "run_driver(8080)"
   ]
  },
  {
   "cell_type": "code",
   "execution_count": 71,
   "id": "c608ed30-ec4d-4471-be8a-c8a532975323",
   "metadata": {},
   "outputs": [
    {
     "name": "stdout",
     "output_type": "stream",
     "text": [
      "0\n",
      "1\n",
      "2\n"
     ]
    }
   ],
   "source": [
    "for i in range(3):\n",
    "    print(i)"
   ]
  },
  {
   "cell_type": "code",
   "execution_count": 72,
   "id": "22fb59ac-c6ca-4f04-8105-da29edbaa49d",
   "metadata": {},
   "outputs": [],
   "source": [
    "ts = [0,1,2]"
   ]
  },
  {
   "cell_type": "code",
   "execution_count": 77,
   "id": "ee390593-8bc2-4e5a-97dd-e9e4196f50e6",
   "metadata": {},
   "outputs": [
    {
     "data": {
      "text/plain": [
       "2"
      ]
     },
     "execution_count": 77,
     "metadata": {},
     "output_type": "execute_result"
    }
   ],
   "source": [
    "ts.pop(0)"
   ]
  },
  {
   "cell_type": "code",
   "execution_count": 78,
   "id": "304cab73-c1ed-43de-b625-6f01c288a02c",
   "metadata": {},
   "outputs": [
    {
     "data": {
      "text/plain": [
       "[]"
      ]
     },
     "execution_count": 78,
     "metadata": {},
     "output_type": "execute_result"
    }
   ],
   "source": [
    "ts"
   ]
  },
  {
   "cell_type": "code",
   "execution_count": 79,
   "id": "93526c73-a59f-4c44-b84b-e11de851b5de",
   "metadata": {},
   "outputs": [
    {
     "data": {
      "text/plain": [
       "False"
      ]
     },
     "execution_count": 79,
     "metadata": {},
     "output_type": "execute_result"
    }
   ],
   "source": [
    "ts == True"
   ]
  },
  {
   "cell_type": "code",
   "execution_count": null,
   "id": "708851f4-bd4d-46d4-aa75-b61ec11b38bd",
   "metadata": {},
   "outputs": [],
   "source": []
  }
 ],
 "metadata": {
  "kernelspec": {
   "display_name": "Python 3 (ipykernel)",
   "language": "python",
   "name": "python3"
  },
  "language_info": {
   "codemirror_mode": {
    "name": "ipython",
    "version": 3
   },
   "file_extension": ".py",
   "mimetype": "text/x-python",
   "name": "python",
   "nbconvert_exporter": "python",
   "pygments_lexer": "ipython3",
   "version": "3.12.1"
  }
 },
 "nbformat": 4,
 "nbformat_minor": 5
}
